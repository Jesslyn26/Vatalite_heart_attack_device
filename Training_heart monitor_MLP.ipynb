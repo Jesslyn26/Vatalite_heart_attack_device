{
   "cell_type": "code",
   "execution_count": 2,
   "metadata": {},
   "outputs": [],
   "source": [
    "from imblearn.over_sampling import SMOTE\n",
    "import numpy as np\n",
    "import pandas as pd\n",
    "from sklearn.neural_network import MLPClassifier\n",
    "from sklearn.model_selection import train_test_split\n",
    "from sklearn.metrics import  precision_score, recall_score, f1_score, average_precision_score, accuracy_score, roc_auc_score\n",
    "import joblib\n"
   ]
  },
  {
   "attachments": {},
   "cell_type": "markdown",
   "metadata": {},
   "source": [
    "Training and testing dataset in MLP and SVM model"
   ]
  },
  {
   "cell_type": "code",
   "execution_count": 5,
   "metadata": {},
   "outputs": [
    {
     "name": "stderr",
     "output_type": "stream",
     "text": [
      "c:\\Users\\jessl\\AppData\\Local\\Programs\\Python\\Python310\\lib\\site-packages\\sklearn\\neural_network\\_multilayer_perceptron.py:1098: DataConversionWarning: A column-vector y was passed when a 1d array was expected. Please change the shape of y to (n_samples, ), for example using ravel().\n",
      "  y = column_or_1d(y, warn=True)\n"
     ]
    },
    {
     "name": "stdout",
     "output_type": "stream",
     "text": [
      "MLP testing metrix:\n",
      "Positive percentage: 0.7774590163934426\n",
      "Precision: 0.9954066468522021\n",
      "Recall: 0.9710068529256721\n",
      "F1-score: 0.9830553702468312\n",
      "Accuracy  0.9739754098360656\n",
      "ROC AUC 0.9776765388016941\n",
      "AUPRC: 0.98908765914781\n",
      "\n"
     ]
    },
    {
     "ename": "",
     "evalue": "",
     "output_type": "error",
     "traceback": [
      "\u001b[1;31mThe Kernel crashed while executing code in the the current cell or a previous cell. Please review the code in the cell(s) to identify a possible cause of the failure. Click <a href='https://aka.ms/vscodeJupyterKernelCrash'>here</a> for more info. View Jupyter <a href='command:jupyter.viewOutput'>log</a> for further details."
     ]
    }
   ],
   "source": [
    "\n",
    "\n",
    "training_dataset = pd.read_csv('Training_heart.csv')\n",
    "\n",
    "smote = SMOTE()\n",
    "\n",
    "# features that is not the target label\n",
    "X = training_dataset.drop(' HEALTHY HEART', axis=1)\n",
    "y = training_dataset.drop([' HR', ' SpO2'], axis=1)\n",
    "\n",
    "# partitioning data for training and testing\n",
    "X_train, X_test, y_train, y_test = train_test_split(X, y, test_size=0.2, shuffle=True, random_state=42)\n",
    "\n",
    "X_train_resampled, y_train_resampled = smote.fit_resample(X_train, y_train)\n",
    "\n",
    "positive_values = y_test.loc[y_test[' HEALTHY HEART'] == 1, ' HEALTHY HEART']\n",
    "\n",
    "# Create and train the One-Class SVM model\n",
    "mlp_model = MLPClassifier(hidden_layer_sizes=(150,100,50), activation= 'relu', solver ='adam', batch_size= 'auto',random_state=42, validation_fraction= 0.16)\n",
    "#mlp_scores = cross_val_score(mlp_model, X_train, y_train, cv= kf)\n",
    "mlp_model.fit(X_train, y_train)\n",
    "\n",
    "\n",
    "mlp_test_pred = mlp_model.predict(X_test)\n",
    "mlp_test_positive_percentage = (positive_values).sum() / len(y_test)\n",
    "mlp_test_precision = precision_score(y_test, mlp_test_pred)\n",
    "mlp_test_recall = recall_score(y_test, mlp_test_pred)\n",
    "mlp_test_f1 = f1_score(y_test, mlp_test_pred)\n",
    "mlp_test_roc_auc = roc_auc_score(y_test, mlp_test_pred)\n",
    "mlp_test_auprc = average_precision_score(y_test, mlp_test_pred)\n",
    "mlp_test_accuracy = accuracy_score(y_test, mlp_test_pred)\n",
    "\n",
    "print(\"MLP testing metrix:\")\n",
    "print (\"Positive percentage:\", mlp_test_positive_percentage)\n",
    "print(\"Precision:\", mlp_test_precision)\n",
    "print(\"Recall:\", mlp_test_recall)\n",
    "print(\"F1-score:\", mlp_test_f1)  \n",
    "print(\"Accuracy \", mlp_test_accuracy)\n",
    "print(\"ROC AUC\", mlp_test_roc_auc)\n",
    "print(\"AUPRC:\", mlp_test_auprc)\n",
    "print()"
   ]
  },
  {
   "cell_type": "code",
   "execution_count": 5,
   "metadata": {},
   "outputs": [
    {
     "data": {
      "text/plain": [
       "['Heart_attack_monitor_MLP.sav']"
      ]
     },
     "execution_count": 5,
     "metadata": {},
     "output_type": "execute_result"
    }
   ],
   "source": [
    "# save the model\n",
    "filename = 'Heart_attack_monitor_MLP.sav'\n",
    "joblib.dump(mlp_model, filename)"
   ]
  }
 ],
 "metadata": {
  "kernelspec": {
   "display_name": "Python 3",
   "language": "python",
   "name": "python3"
  },
  "language_info": {
   "codemirror_mode": {
    "name": "ipython",
    "version": 3
   },
   "file_extension": ".py",
   "mimetype": "text/x-python",
   "name": "python",
   "nbconvert_exporter": "python",
   "pygments_lexer": "ipython3",
   "version": "3.10.7"
  },
  "orig_nbformat": 4
 },
 "nbformat": 4,
 "nbformat_minor": 2
}
