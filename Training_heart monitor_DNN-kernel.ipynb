{
 "cells": [
  {
   "attachments": {},
   "cell_type": "markdown",
   "metadata": {},
   "source": [
    "Import libraries"
   ]
  },
  {
   "cell_type": "code",
   "execution_count": 3,
   "metadata": {},
   "outputs": [],
   "source": [
    "import pandas as pd\n",
    "import numpy as np\n",
    "import tensorflow as tf\n",
    "from sklearn.preprocessing import StandardScaler\n",
    "from sklearn.kernel_approximation import RBFSampler\n",
    "from sklearn.model_selection import train_test_split \n",
    "import joblib\n",
    "import keras\n",
    "from keras.models import Model\n",
    "from keras.layers import Input, Dense\n",
    "from sklearn.svm import OneClassSVM\n",
    "from keras.optimizers import Adam\n",
    "from sklearn.metrics import  precision_score, recall_score, f1_score, average_precision_score, precision_recall_curve,accuracy_score, roc_auc_score"
   ]
  },
  {
   "attachments": {},
   "cell_type": "markdown",
   "metadata": {},
   "source": [
    "Training dataset in deep kernel one class classification model"
   ]
  },
  {
   "cell_type": "code",
   "execution_count": null,
   "metadata": {},
   "outputs": [],
   "source": [
    "training_dataset = pd.read_csv('Complete_training_heart.csv')\n",
    "\n",
    "\n",
    "X = training_dataset.drop('Normal heart', axis=1)\n",
    "y = training_dataset.drop([' PULSE', ' SpO2'], axis=1)\n",
    "\n",
    "X_train, X_test, y_train, y_test = train_test_split(X, y, test_size=0.4, shuffle=True,random_state=42)\n",
    "\n",
    "'''# Scale the data\n",
    "scaler = StandardScaler()\n",
    "X_scaled = scaler.fit_transform(X_train)\n",
    "y_scaled = scaler.fit_transform(y_train)\n",
    "X_test_scaled = scaler.fit_transform(X_test)'''\n",
    "\n",
    "# Define the deep neural network architecture\n",
    "inputs = Input(shape=2, name='input')\n",
    "hidden1 = Dense(30, activation='relu',name='dense_1')(inputs)\n",
    "hidden2 = Dense(15, activation='relu',name='dense_2')(hidden1)\n",
    "hidden3 = Dense(10, activation='relu',name='dense_3')(hidden2)\n",
    "hidden4 = Dense(5, activation='relu',name='dense_4')(hidden3)\n",
    "outputs = Dense(1, activation='sigmoid',name='dense_5')(hidden4)\n",
    "\n",
    "# Create the model\n",
    "model = Model(inputs=inputs, outputs=outputs)\n",
    "model.compile(loss='binary_crossentropy', optimizer=Adam(lr=0.001), metrics= ['accuracy'])\n",
    "model.fit(X_train, y_train, epochs= 20, batch_size=32)\n",
    "\n",
    "# Extract features from the hidden layer\n",
    "feature_model = Model(inputs=model.inputs, outputs=model.get_layer('dense_1').output)\n",
    "X_train_features = feature_model.predict(X_train)\n",
    "X_test_features = feature_model.predict(X_test)\n",
    "\n",
    "# Apply a kernel function to the extracted features\n",
    "rbf = RBFSampler(gamma=0.1, n_components= 2)  \n",
    "X_train_rbf = rbf.fit_transform(X_train_features)\n",
    "X_test_rbf = rbf.transform(X_test_features)\n",
    "\n",
    "# Train a one-class SVM on the kernel-transformed features\n",
    "ocsvm_rbf = OneClassSVM(kernel='rbf', nu=0.1)  \n",
    "ocsvm_rbf.fit(X_train_rbf)\n",
    "\n",
    "# Predict the labels for the input data\n",
    "y_pred_ocsvm_rbf = ocsvm_rbf.predict(X_test_rbf)\n",
    "y_pred_ocsvm_rbf = np.where(y_pred_ocsvm_rbf == -1, 0, 1)\n",
    "\n",
    "positive_percentage = (y_test).sum() / len(y_pred_ocsvm_rbf)\n",
    "\n",
    "# Compute evaluation metrics\n",
    "precision = precision_score(y_test, y_pred_ocsvm_rbf)\n",
    "recall = recall_score(y_test, y_pred_ocsvm_rbf)\n",
    "f1 = f1_score(y_test, y_pred_ocsvm_rbf)\n",
    "\n",
    "\n",
    "outlier_count = (y_pred_ocsvm_rbf == -1).sum()\n",
    "print (\"Positive percentage:\", positive_percentage)\n",
    "print(\"Outlier count:\", outlier_count)\n",
    "print(\"Precision:\", precision)\n",
    "print(\"Recall:\", recall)\n",
    "print(\"F1-score:\", f1)  \n",
    "#print(\"Accuracy \", scores.mean())\n",
    "\n",
    "#precision, recall, thresholds = precision_recall_curve(y, y_pred_ocsvm_rbf)\n",
    "# Calculate AUPRC\n",
    "auprc = average_precision_score (y_test, y_pred_ocsvm_rbf)\n",
    "print(\"AUPRC:\", auprc)\n",
    "# Print the predicted labels\n",
    "print(\"Deep Kernel-Based Predictions:\", y_pred_ocsvm_rbf)\n",
    "\n",
    "filename = 'Heart_attack_monitor_DNN-Kernel.sav'\n",
    "joblib.dump(ocsvm_rbf, filename)\n"
   ]
  },
  {
   "attachments": {},
   "cell_type": "markdown",
   "metadata": {},
   "source": [
    "Testing the deep kernel one class classification performance "
   ]
  },
  {
   "cell_type": "code",
   "execution_count": 4,
   "metadata": {},
   "outputs": [
    {
     "name": "stderr",
     "output_type": "stream",
     "text": [
      "c:\\Users\\jessl\\AppData\\Local\\Programs\\Python\\Python310\\lib\\site-packages\\sklearn\\base.py:432: UserWarning: X has feature names, but OneClassSVM was fitted without feature names\n",
      "  warnings.warn(\n"
     ]
    },
    {
     "name": "stdout",
     "output_type": "stream",
     "text": [
      "Positive percentage: 0.9599679743795037\n",
      "Outlier count: 500\n",
      "Precision: [0.97998399 1.        ]\n",
      "Recall: [1. 0.]\n",
      "Threshold: [-1]\n",
      "ROC AUC 0.5\n",
      "F1-score: 0.0\n",
      "AUPRC: 0.9799839871897518\n"
     ]
    }
   ],
   "source": [
    "# Load a model\n",
    "DNNkernel = joblib.load('Heart_attack_monitor_DNN-Kernel.sav')\n",
    "\n",
    "val_dataset = pd.read_csv('Validate_heart.csv')\n",
    "x_val = val_dataset.drop('Normal heart', axis=1)\n",
    "\n",
    "y_val = val_dataset['Normal heart']  \n",
    "y_val_features = np.reshape(y_val, (-1, 1))\n",
    "\n",
    "y_pred = DNNkernel.predict(x_val)\n",
    "y_pred = np.where(y_pred == -1, -1, 1)\n",
    "\n",
    "positive_percentage = (y_val).sum() / len(y_pred)\n",
    "precision, recall, thresholds = precision_recall_curve(y_val, y_pred)\n",
    "'''\n",
    "precision = precision_score(y_val, y_pred)\n",
    "recall = recall_score(y_val, y_pred)\n",
    "'''\n",
    "\n",
    "# Compute evaluation metrics\n",
    "f1 = f1_score(y_val, y_pred)\n",
    "\n",
    "roc_auc = roc_auc_score(y_val, y_pred)\n",
    "\n",
    "# Print the evaluation scores\n",
    "\n",
    "outlier_count = (y_val == -1).sum()\n",
    "\n",
    "print (\"Positive percentage:\", positive_percentage)\n",
    "print(\"Outlier count:\", outlier_count)\n",
    "print(\"Precision:\", precision)\n",
    "print(\"Recall:\", recall)\n",
    "print(\"Threshold:\", thresholds)\n",
    "print(\"ROC AUC\", roc_auc)\n",
    "print(\"F1-score:\", f1)  \n",
    "#print(\"Accuracy \", scores.mean())\n",
    "\n",
    "# Calculate AUPRC\n",
    "auprc = average_precision_score(y_val, y_pred)\n",
    "print(\"AUPRC:\", auprc)"
   ]
  }
 ],
 "metadata": {
  "kernelspec": {
   "display_name": "Python 3",
   "language": "python",
   "name": "python3"
  },
  "language_info": {
   "codemirror_mode": {
    "name": "ipython",
    "version": 3
   },
   "file_extension": ".py",
   "mimetype": "text/x-python",
   "name": "python",
   "nbconvert_exporter": "python",
   "pygments_lexer": "ipython3",
   "version": "3.10.7"
  },
  "orig_nbformat": 4
 },
 "nbformat": 4,
 "nbformat_minor": 2
}
