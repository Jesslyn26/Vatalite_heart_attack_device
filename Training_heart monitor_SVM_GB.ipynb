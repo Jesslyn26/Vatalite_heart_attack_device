{
 "cells": [
  {
   "attachments": {},
   "cell_type": "markdown",
   "metadata": {},
   "source": [
    "Import libraries"
   ]
  },
  {
   "cell_type": "code",
   "execution_count": 2,
   "metadata": {},
   "outputs": [],
   "source": [
    "import pandas as pd\n",
    "import numpy as np\n",
    "from imblearn.over_sampling import SMOTE\n",
    "from sklearn.ensemble import GradientBoostingClassifier\n",
    "from sklearn.svm import SVC\n",
    "from sklearn.datasets import make_classification\n",
    "from sklearn.model_selection import train_test_split\n",
    "from sklearn.metrics import  precision_score, recall_score, f1_score, average_precision_score, precision_recall_curve,accuracy_score, roc_auc_score\n",
    "import joblib"
   ]
  },
  {
   "attachments": {},
   "cell_type": "markdown",
   "metadata": {},
   "source": [
    "Training dataset in SVM and GBclassification model"
   ]
  },
  {
   "cell_type": "code",
   "execution_count": 16,
   "metadata": {},
   "outputs": [
    {
     "name": "stdout",
     "output_type": "stream",
     "text": [
      "Positive percentage: 0.7725875845113707\n",
      "Precision: 1.0\n",
      "Recall: 0.9846194643330681\n",
      "F1-score: 0.9922501336183859\n",
      "Accuracy  0.9881171891005941\n",
      "ROC AUC 0.9923097321665341\n",
      "AUPRC: 0.996502275232474\n"
     ]
    },
    {
     "data": {
      "text/plain": [
       "['Heart_attack_monitor_SVM_GB.sav']"
      ]
     },
     "execution_count": 16,
     "metadata": {},
     "output_type": "execute_result"
    }
   ],
   "source": [
    "training_dataset = pd.read_csv('Training_heart.csv')\n",
    "\n",
    "smote = SMOTE()\n",
    "\n",
    "# features that is not the target label\n",
    "X = training_dataset.drop(' HEALTHY HEART', axis=1)\n",
    "y = training_dataset.drop([' PULSE', ' SpO2'], axis=1)\n",
    "\n",
    "y = np.reshape(y, (-1, 1))\n",
    "\n",
    "X_train_resampled, y_train_resampled = smote.fit_resample(X, y)\n",
    "\n",
    "# partitioning data for training and testing\n",
    "X_train, X_test, y_train, y_test = train_test_split(X, y, test_size=0.20, shuffle=True, random_state=42)\n",
    "\n",
    "X_train, y_train = smote.fit_resample(X_train, y_train)\n",
    "\n",
    "positive_values = np.count_nonzero(y_test ==  1)\n",
    "\n",
    "# Create and train the SVM model\n",
    "model = SVC(kernel='rbf', C = 0.1) \n",
    "\n",
    "model.fit(X_train, y_train)\n",
    "\n",
    "svm_pred_train = model.predict(X_train)\n",
    "\n",
    "# Gradient Boosting\n",
    "gb_model = GradientBoostingClassifier(n_estimators=100,  learning_rate=0.1, random_state=42, validation_fraction=0.16)\n",
    "gb_model.fit(X_train, svm_pred_train)\n",
    "\n",
    "gb_pred_test = gb_model.predict(X_test)\n",
    "\n",
    "positive_percentage = (y_test).sum() / len(gb_pred_test)\n",
    "\n",
    "# Compute evaluation metrics\n",
    "precision = precision_score(y_test, gb_pred_test)\n",
    "precision = precision_score(y_test, gb_pred_test)\n",
    "recall = recall_score(y_test, gb_pred_test)\n",
    "f1 = f1_score(y_test, gb_pred_test)\n",
    "roc_auc = roc_auc_score(y_test, gb_pred_test)\n",
    "auprc = average_precision_score(y_test, gb_pred_test)\n",
    "accuracy = accuracy_score(y_test, gb_pred_test)\n",
    "\n",
    "\n",
    "# Print the evaluation scores\n",
    "print (\"Positive percentage:\", positive_percentage)\n",
    "print(\"Precision:\", precision)\n",
    "print(\"Recall:\", recall)\n",
    "print(\"F1-score:\", f1)  \n",
    "print(\"Accuracy \", accuracy)\n",
    "print(\"ROC AUC\", roc_auc)\n",
    "print(\"AUPRC:\", auprc)\n",
    "\n",
    "filename = 'Heart_attack_monitor_SVM_GB.sav'\n",
    "joblib.dump(gb_model, filename)"
   ]
  },
  {
   "cell_type": "code",
   "execution_count": null,
   "metadata": {},
   "outputs": [],
   "source": []
  }
 ],
 "metadata": {
  "kernelspec": {
   "display_name": "Python 3",
   "language": "python",
   "name": "python3"
  },
  "language_info": {
   "codemirror_mode": {
    "name": "ipython",
    "version": 3
   },
   "file_extension": ".py",
   "mimetype": "text/x-python",
   "name": "python",
   "nbconvert_exporter": "python",
   "pygments_lexer": "ipython3",
   "version": "3.10.7"
  },
  "orig_nbformat": 4
 },
 "nbformat": 4,
 "nbformat_minor": 2
}
