{
 "cells": [
  {
   "cell_type": "code",
   "execution_count": 39,
   "metadata": {},
   "outputs": [],
   "source": [
    "import numpy as np\n",
    "import pandas as pd\n",
    "import matplotlib.pyplot as plt\n",
    "from mpl_toolkits.mplot3d import Axes3D\n",
    "import pandas as pd\n",
    "import numpy as np\n",
    "import matplotlib.pyplot as plt\n",
    "import tensorflow as tf\n",
    "from sklearn.preprocessing import StandardScaler\n",
    "from sklearn.preprocessing import LabelEncoder \n",
    "from sklearn.model_selection import train_test_split\n",
    "\n"
   ]
  },
  {
   "cell_type": "code",
   "execution_count": 16,
   "metadata": {},
   "outputs": [
    {
     "data": {
      "text/plain": [
       "[]"
      ]
     },
     "execution_count": 16,
     "metadata": {},
     "output_type": "execute_result"
    },
    {
     "data": {
      "image/png": "[encoded data removed]",
      "text/plain": [
       "<Figure size 640x480 with 1 Axes>"
      ]
     },
     "metadata": {},
     "output_type": "display_data"
    }
   ],
   "source": [
    "#create some data and plot the graph\n",
    "training_dataset = pd.read_csv('Training_heart.csv')\n",
    "y = training_dataset.drop([' HEALTHY HEART', ' SpO2'], axis=1)\n",
    "x = training_dataset.drop([' HEALTHY HEART',' PULSE'], axis=1)\n",
    "labels = training_dataset[' HEALTHY HEART']\n",
    "\n",
    "plt.scatter(x, y, c=labels)\n",
    "#plot a line that splits the data into 2 classes\n",
    "plt.plot()"
   ]
  },
  {
   "cell_type": "code",
   "execution_count": 17,
   "metadata": {},
   "outputs": [],
   "source": [
    "def tranformation_function(x, y):\n",
    "    \"\"\"This function converts the 2D data into 3D\"\"\"\n",
    "    data = np.c_[(x, y)] #zips the x and y value\n",
    "    #check if the data has more than 2 observations\n",
    "    if len(data) > 2:\n",
    "        x1 = data[:, 0] ** 2\n",
    "        x2 = np.sqrt(2) * data[:, 0] * data[:, 1]\n",
    "        x3 = data[:, 1] ** 2\n",
    "    else:\n",
    "        x1 = data[0] ** 2\n",
    "        x2 = np.sqrt(2) * data[0] * data[1]\n",
    "        x3 =  data[1] ** 2\n",
    "    translated_data = np.array([x1, x2, x3])\n",
    "    \n",
    "    return translated_data"
   ]
  },
  {
   "cell_type": "code",
   "execution_count": 18,
   "metadata": {},
   "outputs": [
    {
     "name": "stdout",
     "output_type": "stream",
     "text": [
      "The shape of the data before transformation is (24403, 2)\n",
      "The shape of the data after transformation is (3, 24403)\n"
     ]
    }
   ],
   "source": [
    "print(f'The shape of the data before transformation is {np.c_[(x, y)].shape}')\n",
    "#call the transformation function on the data\n",
    "data_3d = tranformation_function(x, y)\n",
    "#check the dimension of the data\n",
    "print(f'The shape of the data after transformation is {data_3d.shape}')"
   ]
  },
  {
   "cell_type": "code",
   "execution_count": null,
   "metadata": {},
   "outputs": [],
   "source": [
    "fig, ax = plt.subplots()\n",
    "ax = fig.add_subplot(111, projection='3d')\n",
    "ax.scatter(data_3d[0], data_3d[1], data_3d[2], c=labels)\n",
    " \n",
    "ax.set_xlabel('X axis')\n",
    "ax.set_ylabel('Y axis')\n",
    "ax.set_zlabel('Z axis')\n",
    " \n",
    "plt.show()"
   ]
  },
  {
   "cell_type": "code",
   "execution_count": 22,
   "metadata": {},
   "outputs": [
    {
     "name": "stdout",
     "output_type": "stream",
     "text": [
      "    PULSE   SpO2   HEALTHY HEART\n",
      "0    93.0   97.0               1\n",
      "1    93.0   97.0               1\n",
      "2    93.0   97.0               1\n",
      "3    93.0   97.0               1\n",
      "4    93.0   97.0               1\n",
      "(24403, 3)\n",
      " PULSE            0\n",
      " SpO2             0\n",
      " HEALTHY HEART    0\n",
      "dtype: int64\n"
     ]
    }
   ],
   "source": [
    "df = pd.read_csv('Training_heart.csv')\n",
    "#print the first 5 rows of the data\n",
    "\n",
    "print(df.head())\n",
    "print(df.shape)\n",
    "print(df.isnull().sum())"
   ]
  },
  {
   "cell_type": "code",
   "execution_count": 23,
   "metadata": {},
   "outputs": [],
   "source": [
    "#split the data into targets(y) and features (X)\n",
    "target = df[' HEALTHY HEART'] \n",
    "features = df.drop([' HEALTHY HEART'], axis=1)"
   ]
  },
  {
   "cell_type": "code",
   "execution_count": 26,
   "metadata": {},
   "outputs": [],
   "source": [
    "#split the data into train and test data\n",
    "X_train, X_test, y_train, y_test = train_test_split(features,target, test_size=0.2, random_state=42)"
   ]
  },
  {
   "cell_type": "code",
   "execution_count": 27,
   "metadata": {},
   "outputs": [
    {
     "name": "stdout",
     "output_type": "stream",
     "text": [
      "(19522, 2)\n",
      "(4881, 2)\n"
     ]
    }
   ],
   "source": [
    "print(X_train.shape)\n",
    "print(X_test.shape)"
   ]
  },
  {
   "cell_type": "code",
   "execution_count": 41,
   "metadata": {},
   "outputs": [
    {
     "ename": "AttributeError",
     "evalue": "module 'tensorflow' has no attribute 'contrib'",
     "output_type": "error",
     "traceback": [
      "\u001b[1;31m---------------------------------------------------------------------------\u001b[0m",
      "\u001b[1;31mAttributeError\u001b[0m                            Traceback (most recent call last)",
      "Cell \u001b[1;32mIn[41], line 1\u001b[0m\n\u001b[1;32m----> 1\u001b[0m feature_columns \u001b[39m=\u001b[39m tf\u001b[39m.\u001b[39;49mcontrib\u001b[39m.\u001b[39mlayers\u001b[39m.\u001b[39mreal_valued_column(\u001b[39m'\u001b[39m\u001b[39mx\u001b[39m\u001b[39m'\u001b[39m, dimension\u001b[39m=\u001b[39m\u001b[39m2\u001b[39m)\n",
      "\u001b[1;31mAttributeError\u001b[0m: module 'tensorflow' has no attribute 'contrib'"
     ]
    }
   ],
   "source": [
    "feature_columns = tf.contrib.layers.real_valued_column('x', dimension=2)\n"
   ]
  }
 ],
 "metadata": {
  "kernelspec": {
   "display_name": "Python 3",
   "language": "python",
   "name": "python3"
  },
  "language_info": {
   "codemirror_mode": {
    "name": "ipython",
    "version": 3
   },
   "file_extension": ".py",
   "mimetype": "text/x-python",
   "name": "python",
   "nbconvert_exporter": "python",
   "pygments_lexer": "ipython3",
   "version": "3.10.7"
  },
  "orig_nbformat": 4
 },
 "nbformat": 4,
 "nbformat_minor": 2
}
