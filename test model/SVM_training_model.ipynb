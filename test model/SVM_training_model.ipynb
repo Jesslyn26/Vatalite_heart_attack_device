{
 "cells": [
  {
   "cell_type": "code",
   "execution_count": 13,
   "metadata": {},
   "outputs": [],
   "source": [
    "from sklearn.model_selection import train_test_split\n",
    "import pandas as pd\n",
    "import tensorflow as tf\n",
    "from imblearn.over_sampling import SMOTE\n",
    "import numpy as np"
   ]
  },
  {
   "cell_type": "code",
   "execution_count": 3,
   "metadata": {},
   "outputs": [],
   "source": [
    "df = pd.read_csv('Training_heart.csv')\n",
    "\n",
    "target = df[' HEALTHY HEART'] \n",
    "data = df.drop([' HEALTHY HEART'], axis=1)"
   ]
  },
  {
   "cell_type": "code",
   "execution_count": 22,
   "metadata": {},
   "outputs": [
    {
     "name": "stdout",
     "output_type": "stream",
     "text": [
      "Train : (15617, 2)\n",
      "Validate : (1758, 2)\n",
      "Test : (7028, 2)\n"
     ]
    }
   ],
   "source": [
    "smote = SMOTE()\n",
    "\n",
    "target = np.array([1 if y == 1 else -1 for y in target])\n",
    "\n",
    "x_train, x_test, y_train, y_test = train_test_split(data, target, test_size=0.36)\n",
    "x_test, x_val, y_test, y_val = train_test_split(x_test, y_test, test_size=0.20)\n",
    "\n",
    "X_train_resampled, y_train_resampled = smote.fit_resample(x_train, y_train)\n",
    "\n",
    "print(\"Train :\", x_train.shape)\n",
    "print(\"Validate :\", x_val.shape)\n",
    "print(\"Test :\", x_test.shape)"
   ]
  },
  {
   "cell_type": "code",
   "execution_count": 25,
   "metadata": {},
   "outputs": [
    {
     "name": "stdout",
     "output_type": "stream",
     "text": [
      "Epoch 1/10\n",
      "489/489 [==============================] - 1s 1ms/step - loss: 3.4860 - accuracy: 0.5783\n",
      "Epoch 2/10\n",
      "489/489 [==============================] - 1s 1ms/step - loss: -1.2649 - accuracy: 0.5406\n",
      "Epoch 3/10\n",
      "489/489 [==============================] - 0s 975us/step - loss: -2.3041 - accuracy: 0.5386\n",
      "Epoch 4/10\n",
      "489/489 [==============================] - 1s 1ms/step - loss: -3.6700 - accuracy: 0.5385\n",
      "Epoch 5/10\n",
      "489/489 [==============================] - 0s 985us/step - loss: -5.3704 - accuracy: 0.5418\n",
      "Epoch 6/10\n",
      "489/489 [==============================] - 0s 919us/step - loss: -7.4768 - accuracy: 0.5422\n",
      "Epoch 7/10\n",
      "489/489 [==============================] - 0s 989us/step - loss: -10.0434 - accuracy: 0.5424\n",
      "Epoch 8/10\n",
      "489/489 [==============================] - 1s 1ms/step - loss: -13.1446 - accuracy: 0.5413\n",
      "Epoch 9/10\n",
      "489/489 [==============================] - 1s 1ms/step - loss: -16.8419 - accuracy: 0.5424\n",
      "Epoch 10/10\n",
      "489/489 [==============================] - 1s 1ms/step - loss: -21.1907 - accuracy: 0.5426\n"
     ]
    },
    {
     "data": {
      "text/plain": [
       "<keras.callbacks.History at 0x244a1a48340>"
      ]
     },
     "execution_count": 25,
     "metadata": {},
     "output_type": "execute_result"
    }
   ],
   "source": [
    "model = tf.keras.models.Sequential([\n",
    "    tf.keras.layers.Input(shape=(2,)),\n",
    "    tf.keras.layers.Dense(16, activation='relu'),\n",
    "    tf.keras.layers.Dense(1, activation='sigmoid')\n",
    "])\n",
    "\n",
    "model.compile(optimizer='adam', loss='binary_crossentropy', metrics=['accuracy'])\n",
    "\n",
    "model.fit(x_train, y_train, epochs=10)\n",
    "\n"
   ]
  },
  {
   "cell_type": "code",
   "execution_count": 24,
   "metadata": {},
   "outputs": [
    {
     "name": "stdout",
     "output_type": "stream",
     "text": [
      "220/220 [==============================] - 0s 847us/step - loss: -39323.4180 - accuracy: 0.5952\n",
      "Accuracy: 0.5951906442642212\n"
     ]
    }
   ],
   "source": [
    "_, accuracy = model.evaluate(x_test, y_test)\n",
    "print('Accuracy:', accuracy)"
   ]
  }
 ],
 "metadata": {
  "kernelspec": {
   "display_name": "Python 3",
   "language": "python",
   "name": "python3"
  },
  "language_info": {
   "codemirror_mode": {
    "name": "ipython",
    "version": 3
   },
   "file_extension": ".py",
   "mimetype": "text/x-python",
   "name": "python",
   "nbconvert_exporter": "python",
   "pygments_lexer": "ipython3",
   "version": "3.10.7"
  },
  "orig_nbformat": 4
 },
 "nbformat": 4,
 "nbformat_minor": 2
}
